{
 "cells": [
  {
   "cell_type": "code",
   "execution_count": 1,
   "metadata": {},
   "outputs": [
    {
     "name": "stdout",
     "output_type": "stream",
     "text": [
      "輸入的十進位數字為: 512\n",
      "對應的二進位數字為: 1000000000\n",
      "對應的十六進位數字為: 200\n"
     ]
    }
   ],
   "source": [
    "def decimal_to_binary(decimal):\n",
    "    if decimal == 0:\n",
    "        return \"0\"\n",
    "    elif decimal == 1:\n",
    "        return \"1\"\n",
    "    else:\n",
    "        return decimal_to_binary(decimal // 2) + str(decimal % 2)\n",
    "\n",
    "def decimal_to_hex(decimal):\n",
    "    hex_digits = \"0123456789ABCDEF\"\n",
    "    if decimal < 16:\n",
    "        return hex_digits[decimal]\n",
    "    else:\n",
    "        return decimal_to_hex(decimal // 16) + hex_digits[decimal % 16]\n",
    "\n",
    "decimal_input = int(input(\"請輸入一個10進位數字: \"))\n",
    "binary_output = decimal_to_binary(decimal_input)\n",
    "hex_output = decimal_to_hex(decimal_input)\n",
    "\n",
    "print(\"輸入的十進位數字為:\",decimal_input)\n",
    "print(\"對應的二進位數字為:\", binary_output)\n",
    "print(\"對應的十六進位數字為:\", hex_output)"
   ]
  }
 ],
 "metadata": {
  "kernelspec": {
   "display_name": "Python 3",
   "language": "python",
   "name": "python3"
  },
  "language_info": {
   "codemirror_mode": {
    "name": "ipython",
    "version": 3
   },
   "file_extension": ".py",
   "mimetype": "text/x-python",
   "name": "python",
   "nbconvert_exporter": "python",
   "pygments_lexer": "ipython3",
   "version": "3.12.0"
  }
 },
 "nbformat": 4,
 "nbformat_minor": 2
}
